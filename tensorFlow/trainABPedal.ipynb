{
 "cells": [
  {
   "cell_type": "code",
   "execution_count": 1,
   "metadata": {},
   "outputs": [],
   "source": [
    "import tensorflow as tf\n",
    "import numpy as np\n",
    "import pandas as pd\n",
    "import matplotlib.pyplot as plt\n",
    "\n",
    "%matplotlib inline\n"
   ]
  },
  {
   "cell_type": "code",
   "execution_count": 2,
   "metadata": {},
   "outputs": [],
   "source": [
    "def insertBreak():\n",
    "    print(\"-\"*75)\n",
    "    "
   ]
  },
  {
   "cell_type": "code",
   "execution_count": 3,
   "metadata": {},
   "outputs": [
    {
     "data": {
      "text/html": [
       "<div>\n",
       "<style scoped>\n",
       "    .dataframe tbody tr th:only-of-type {\n",
       "        vertical-align: middle;\n",
       "    }\n",
       "\n",
       "    .dataframe tbody tr th {\n",
       "        vertical-align: top;\n",
       "    }\n",
       "\n",
       "    .dataframe thead th {\n",
       "        text-align: right;\n",
       "    }\n",
       "</style>\n",
       "<table border=\"1\" class=\"dataframe\">\n",
       "  <thead>\n",
       "    <tr style=\"text-align: right;\">\n",
       "      <th></th>\n",
       "      <th>0</th>\n",
       "      <th>1</th>\n",
       "      <th>2</th>\n",
       "      <th>3</th>\n",
       "      <th>4</th>\n",
       "      <th>5</th>\n",
       "      <th>6</th>\n",
       "      <th>7</th>\n",
       "      <th>8</th>\n",
       "      <th>9</th>\n",
       "      <th>10</th>\n",
       "      <th>11</th>\n",
       "    </tr>\n",
       "  </thead>\n",
       "  <tbody>\n",
       "    <tr>\n",
       "      <th>0</th>\n",
       "      <td>30.0</td>\n",
       "      <td>134.0</td>\n",
       "      <td>74.0</td>\n",
       "      <td>33.0</td>\n",
       "      <td>28.0</td>\n",
       "      <td>34.0</td>\n",
       "      <td>28.0</td>\n",
       "      <td>105.0</td>\n",
       "      <td>46.0</td>\n",
       "      <td>10.998667</td>\n",
       "      <td>-1.0</td>\n",
       "      <td>0.0</td>\n",
       "    </tr>\n",
       "    <tr>\n",
       "      <th>1</th>\n",
       "      <td>29.0</td>\n",
       "      <td>133.0</td>\n",
       "      <td>73.0</td>\n",
       "      <td>33.0</td>\n",
       "      <td>27.0</td>\n",
       "      <td>34.0</td>\n",
       "      <td>28.0</td>\n",
       "      <td>103.0</td>\n",
       "      <td>46.0</td>\n",
       "      <td>10.998667</td>\n",
       "      <td>-1.0</td>\n",
       "      <td>0.0</td>\n",
       "    </tr>\n",
       "    <tr>\n",
       "      <th>2</th>\n",
       "      <td>29.0</td>\n",
       "      <td>133.0</td>\n",
       "      <td>71.0</td>\n",
       "      <td>33.0</td>\n",
       "      <td>27.0</td>\n",
       "      <td>36.0</td>\n",
       "      <td>28.0</td>\n",
       "      <td>102.0</td>\n",
       "      <td>45.0</td>\n",
       "      <td>10.998667</td>\n",
       "      <td>-1.0</td>\n",
       "      <td>0.0</td>\n",
       "    </tr>\n",
       "    <tr>\n",
       "      <th>3</th>\n",
       "      <td>30.0</td>\n",
       "      <td>132.0</td>\n",
       "      <td>70.0</td>\n",
       "      <td>34.0</td>\n",
       "      <td>27.0</td>\n",
       "      <td>36.0</td>\n",
       "      <td>28.0</td>\n",
       "      <td>100.0</td>\n",
       "      <td>45.0</td>\n",
       "      <td>10.998667</td>\n",
       "      <td>-1.0</td>\n",
       "      <td>0.0</td>\n",
       "    </tr>\n",
       "    <tr>\n",
       "      <th>4</th>\n",
       "      <td>31.0</td>\n",
       "      <td>130.0</td>\n",
       "      <td>69.0</td>\n",
       "      <td>33.0</td>\n",
       "      <td>27.0</td>\n",
       "      <td>36.0</td>\n",
       "      <td>28.0</td>\n",
       "      <td>99.0</td>\n",
       "      <td>45.0</td>\n",
       "      <td>10.998667</td>\n",
       "      <td>-1.0</td>\n",
       "      <td>0.0</td>\n",
       "    </tr>\n",
       "  </tbody>\n",
       "</table>\n",
       "</div>"
      ],
      "text/plain": [
       "     0      1     2     3     4     5     6      7     8          9    10   11\n",
       "0  30.0  134.0  74.0  33.0  28.0  34.0  28.0  105.0  46.0  10.998667 -1.0  0.0\n",
       "1  29.0  133.0  73.0  33.0  27.0  34.0  28.0  103.0  46.0  10.998667 -1.0  0.0\n",
       "2  29.0  133.0  71.0  33.0  27.0  36.0  28.0  102.0  45.0  10.998667 -1.0  0.0\n",
       "3  30.0  132.0  70.0  34.0  27.0  36.0  28.0  100.0  45.0  10.998667 -1.0  0.0\n",
       "4  31.0  130.0  69.0  33.0  27.0  36.0  28.0   99.0  45.0  10.998667 -1.0  0.0"
      ]
     },
     "execution_count": 3,
     "metadata": {},
     "output_type": "execute_result"
    }
   ],
   "source": [
    "allDataDF = pd.read_csv(\"data.csv\", header = None)\n",
    "allDataDF = allDataDF.drop(columns = [12])\n",
    "allDataDF.head()\n"
   ]
  },
  {
   "cell_type": "code",
   "execution_count": 4,
   "metadata": {},
   "outputs": [
    {
     "name": "stdout",
     "output_type": "stream",
     "text": [
      "xDF: (9299, 11)\n",
      "yDF: (9299, 1)\n",
      "---------------------------------------------------------------------------\n"
     ]
    }
   ],
   "source": [
    "xDF = allDataDF.drop(columns = [11])\n",
    "yDF = allDataDF.drop(columns = range(11))\n",
    "\n",
    "print(\"xDF: \"+str(xDF.shape)+\"\\nyDF: \"+str(yDF.shape))\n",
    "insertBreak()\n"
   ]
  },
  {
   "cell_type": "code",
   "execution_count": null,
   "metadata": {},
   "outputs": [
    {
     "name": "stdout",
     "output_type": "stream",
     "text": [
      "Input Features:\n",
      "\n",
      "Feature-1:\n"
     ]
    },
    {
     "data": {
      "image/png": "[encoded data removed]",
      "text/plain": [
       "<Figure size 432x288 with 1 Axes>"
      ]
     },
     "metadata": {
      "needs_background": "light"
     },
     "output_type": "display_data"
    },
    {
     "name": "stdout",
     "output_type": "stream",
     "text": [
      "Feature-2:\n"
     ]
    },
    {
     "data": {
      "image/png": "[encoded data removed]",
      "text/plain": [
       "<Figure size 432x288 with 1 Axes>"
      ]
     },
     "metadata": {
      "needs_background": "light"
     },
     "output_type": "display_data"
    },
    {
     "name": "stdout",
     "output_type": "stream",
     "text": [
      "Feature-3:\n"
     ]
    },
    {
     "data": {
      "image/png": "[encoded data removed]",
      "text/plain": [
       "<Figure size 432x288 with 1 Axes>"
      ]
     },
     "metadata": {
      "needs_background": "light"
     },
     "output_type": "display_data"
    },
    {
     "name": "stdout",
     "output_type": "stream",
     "text": [
      "Feature-4:\n"
     ]
    },
    {
     "data": {
      "image/png": "[encoded data removed]",
      "text/plain": [
       "<Figure size 432x288 with 1 Axes>"
      ]
     },
     "metadata": {
      "needs_background": "light"
     },
     "output_type": "display_data"
    },
    {
     "name": "stdout",
     "output_type": "stream",
     "text": [
      "Feature-5:\n"
     ]
    },
    {
     "data": {
      "image/png": "[encoded data removed]",
      "text/plain": [
       "<Figure size 432x288 with 1 Axes>"
      ]
     },
     "metadata": {
      "needs_background": "light"
     },
     "output_type": "display_data"
    },
    {
     "name": "stdout",
     "output_type": "stream",
     "text": [
      "Feature-6:\n"
     ]
    },
    {
     "data": {
      "image/png": "[encoded data removed]",
      "text/plain": [
       "<Figure size 432x288 with 1 Axes>"
      ]
     },
     "metadata": {
      "needs_background": "light"
     },
     "output_type": "display_data"
    },
    {
     "name": "stdout",
     "output_type": "stream",
     "text": [
      "Feature-7:\n"
     ]
    },
    {
     "data": {
      "image/png": "[encoded data removed]",
      "text/plain": [
       "<Figure size 432x288 with 1 Axes>"
      ]
     },
     "metadata": {
      "needs_background": "light"
     },
     "output_type": "display_data"
    },
    {
     "name": "stdout",
     "output_type": "stream",
     "text": [
      "Feature-8:\n"
     ]
    },
    {
     "data": {
      "image/png": "[encoded data removed]",
      "text/plain": [
       "<Figure size 432x288 with 1 Axes>"
      ]
     },
     "metadata": {
      "needs_background": "light"
     },
     "output_type": "display_data"
    },
    {
     "name": "stdout",
     "output_type": "stream",
     "text": [
      "Feature-9:\n"
     ]
    },
    {
     "data": {
      "image/png": "[encoded data removed]",
      "text/plain": [
       "<Figure size 432x288 with 1 Axes>"
      ]
     },
     "metadata": {
      "needs_background": "light"
     },
     "output_type": "display_data"
    },
    {
     "name": "stdout",
     "output_type": "stream",
     "text": [
      "Feature-10:\n"
     ]
    },
    {
     "data": {
      "image/png": "[encoded data removed]",
      "text/plain": [
       "<Figure size 432x288 with 1 Axes>"
      ]
     },
     "metadata": {
      "needs_background": "light"
     },
     "output_type": "display_data"
    },
    {
     "name": "stdout",
     "output_type": "stream",
     "text": [
      "Feature-11:\n"
     ]
    },
    {
     "data": {
      "image/png": "[encoded data removed]",
      "text/plain": [
       "<Figure size 432x288 with 1 Axes>"
      ]
     },
     "metadata": {
      "needs_background": "light"
     },
     "output_type": "display_data"
    },
    {
     "name": "stdout",
     "output_type": "stream",
     "text": [
      "---------------------------------------------------------------------------\n"
     ]
    }
   ],
   "source": [
    "print(\"Input Features:\\n\")\n",
    "for i in range(xDF.shape[1]):\n",
    "    print(\"Feature-\"+str(i+1)+\":\")\n",
    "    x = plt.hist(xDF[i], color=['green'])\n",
    "    plt.show()\n",
    "\n",
    "insertBreak()\n"
   ]
  },
  {
   "cell_type": "code",
   "execution_count": null,
   "metadata": {},
   "outputs": [],
   "source": [
    "#Comment on features: Alot of features seem to be distributed logarithmicly\n"
   ]
  },
  {
   "cell_type": "code",
   "execution_count": null,
   "metadata": {},
   "outputs": [],
   "source": [
    "toTrain = 1.0\n",
    "\n",
    "trainCount = int(toTrain * xDF.shape[0])\n",
    "xTrain = xDF.loc[:trainCount]\n",
    "xTest = xDF.loc[trainCount:]\n",
    "yTrain = yDF.loc[:trainCount]\n",
    "yTest = yDF.loc[trainCount:]\n"
   ]
  },
  {
   "cell_type": "code",
   "execution_count": null,
   "metadata": {},
   "outputs": [
    {
     "name": "stdout",
     "output_type": "stream",
     "text": [
      "xTrain: (9299, 11) | yTrain: (0, 11)\n",
      "yTrain: (9299, 1) | yTest: (0, 1)\n",
      "---------------------------------------------------------------------------\n"
     ]
    }
   ],
   "source": [
    "print(\"xTrain: \"+str(xTrain.shape)+\" | yTrain: \"+str(xTest.shape))\n",
    "print(\"yTrain: \"+str(yTrain.shape)+\" | yTest: \"+str(yTest.shape))\n",
    "\n",
    "insertBreak()\n"
   ]
  },
  {
   "cell_type": "code",
   "execution_count": null,
   "metadata": {},
   "outputs": [],
   "source": [
    "def multilayerPerceptron(x, weights, biases, keep_prob):\n",
    "    layer1 = tf.add( tf.matmul(x, weights['h1']), biases['b1'] )\n",
    "    layer1 = tf.nn.relu(layer1)\n",
    "    layer1 = tf.nn.dropout(layer1, keep_prob)\n",
    "    \n",
    "    outLayer = tf.matmul(layer1, weights['out']) + biases['out']\n",
    "    \n",
    "    return outLayer\n",
    "\n",
    "\n"
   ]
  },
  {
   "cell_type": "code",
   "execution_count": null,
   "metadata": {},
   "outputs": [
    {
     "name": "stdout",
     "output_type": "stream",
     "text": [
      "WARNING:tensorflow:From /usr/local/lib/python3.7/site-packages/tensorflow/python/framework/op_def_library.py:263: colocate_with (from tensorflow.python.framework.ops) is deprecated and will be removed in a future version.\n",
      "Instructions for updating:\n",
      "Colocations handled automatically by placer.\n"
     ]
    }
   ],
   "source": [
    "nH1 = 50\n",
    "nInput = xTrain.shape[1]\n",
    "nOutput = 1\n",
    "\n",
    "weights = {\n",
    "    'h1':tf.Variable(tf.random_normal([nInput, nH1])),\n",
    "    'out':tf.Variable(tf.random_normal([nH1, nOutput]))   \n",
    "}\n",
    "biases = {\n",
    "    'b1':tf.Variable(tf.random_normal([nH1])),\n",
    "    'out':tf.Variable(tf.random_normal([nOutput]))\n",
    "}\n",
    "\n",
    "alpha = 0.001\n",
    "keep_prob = tf.placeholder(\"float\")\n",
    "epochs = 5000*18\n",
    "displayStep = 1000\n",
    "\n",
    "x = tf.placeholder(\"float\", [None, nInput])\n",
    "y = tf.placeholder(\"float\", [None, nOutput])\n",
    "\n"
   ]
  },
  {
   "cell_type": "code",
   "execution_count": null,
   "metadata": {},
   "outputs": [
    {
     "name": "stdout",
     "output_type": "stream",
     "text": [
      "WARNING:tensorflow:From <ipython-input-9-4d10fbf729ab>:4: calling dropout (from tensorflow.python.ops.nn_ops) with keep_prob is deprecated and will be removed in a future version.\n",
      "Instructions for updating:\n",
      "Please use `rate` instead of `keep_prob`. Rate should be set to `rate = 1 - keep_prob`.\n"
     ]
    }
   ],
   "source": [
    "predictions = multilayerPerceptron(x, weights, biases, keep_prob)\n",
    "\n",
    "cost = tf.reduce_mean( tf.square(y - predictions) )\n",
    "optimizer = tf.train.AdamOptimizer(alpha).minimize(cost)\n",
    "\n",
    "saver = tf.train.Saver()\n"
   ]
  },
  {
   "cell_type": "code",
   "execution_count": null,
   "metadata": {},
   "outputs": [],
   "source": [
    "costVals = []\n"
   ]
  },
  {
   "cell_type": "code",
   "execution_count": null,
   "metadata": {},
   "outputs": [
    {
     "name": "stdout",
     "output_type": "stream",
     "text": [
      "Epoch: 0, Cost: 329424.44\n",
      "Epoch: 1000, Cost: 1037.9918\n",
      "Epoch: 2000, Cost: 394.23407\n",
      "Epoch: 3000, Cost: 230.25938\n",
      "Epoch: 4000, Cost: 158.27525\n",
      "Epoch: 5000, Cost: 108.406364\n",
      "Epoch: 6000, Cost: 69.2065\n",
      "Epoch: 7000, Cost: 47.02848\n",
      "Epoch: 8000, Cost: 31.71549\n",
      "Epoch: 9000, Cost: 23.990759\n",
      "Epoch: 10000, Cost: 19.439291\n",
      "Epoch: 11000, Cost: 16.469902\n",
      "Epoch: 12000, Cost: 13.951391\n",
      "Epoch: 13000, Cost: 11.870665\n",
      "Epoch: 14000, Cost: 10.506233\n",
      "Epoch: 15000, Cost: 9.291169\n",
      "Epoch: 16000, Cost: 8.346791\n",
      "Epoch: 17000, Cost: 7.5491853\n",
      "Epoch: 18000, Cost: 6.9434566\n",
      "Epoch: 19000, Cost: 6.4594536\n",
      "Epoch: 20000, Cost: 6.0432315\n",
      "Epoch: 21000, Cost: 5.6765914\n",
      "Epoch: 22000, Cost: 5.350144\n",
      "Epoch: 23000, Cost: 5.075355\n",
      "Epoch: 24000, Cost: 4.795535\n",
      "Epoch: 25000, Cost: 4.5377555\n",
      "Epoch: 26000, Cost: 4.2951984\n",
      "Epoch: 27000, Cost: 4.0849705\n",
      "Epoch: 28000, Cost: 4.141002\n",
      "Epoch: 29000, Cost: 3.8430262\n",
      "Epoch: 30000, Cost: 3.6373248\n",
      "Epoch: 31000, Cost: 3.4341998\n",
      "Epoch: 32000, Cost: 3.3079176\n",
      "Epoch: 33000, Cost: 3.1895573\n",
      "Epoch: 34000, Cost: 3.0812047\n",
      "Epoch: 35000, Cost: 2.9824972\n",
      "Epoch: 36000, Cost: 2.8900301\n",
      "Epoch: 37000, Cost: 3.111765\n",
      "Epoch: 38000, Cost: 2.868147\n",
      "Epoch: 39000, Cost: 2.6412132\n",
      "Epoch: 40000, Cost: 2.580665\n",
      "Epoch: 41000, Cost: 2.49258\n",
      "Epoch: 42000, Cost: 2.4243886\n",
      "Epoch: 43000, Cost: 2.3527005\n",
      "Epoch: 44000, Cost: 2.2843852\n",
      "Epoch: 45000, Cost: 2.2192569\n",
      "Epoch: 46000, Cost: 2.1627655\n",
      "Epoch: 47000, Cost: 2.2338467\n",
      "Epoch: 48000, Cost: 2.0476644\n",
      "Epoch: 49000, Cost: 2.000504\n",
      "Epoch: 50000, Cost: 4.6954794\n",
      "Epoch: 51000, Cost: 1.9005637\n",
      "Epoch: 52000, Cost: 1.8548113\n",
      "Epoch: 53000, Cost: 1.8110543\n",
      "Epoch: 54000, Cost: 2.4986875\n",
      "Epoch: 55000, Cost: 1.7308743\n",
      "Epoch: 56000, Cost: 1.6908524\n",
      "Epoch: 57000, Cost: 1.7123655\n",
      "Epoch: 58000, Cost: 1.6145881\n",
      "Epoch: 59000, Cost: 1.5805947\n",
      "Epoch: 60000, Cost: 1.7182031\n",
      "Epoch: 61000, Cost: 1.5199422\n",
      "Epoch: 62000, Cost: 1.4891418\n",
      "Epoch: 63000, Cost: 1.8030272\n",
      "Epoch: 64000, Cost: 1.4352667\n",
      "Epoch: 65000, Cost: 1.432699\n",
      "Epoch: 66000, Cost: 2.7182925\n",
      "Epoch: 67000, Cost: 1.3622546\n",
      "Epoch: 68000, Cost: 1.3333318\n",
      "Epoch: 69000, Cost: 1.3100121\n",
      "Epoch: 70000, Cost: 1.28822\n",
      "Epoch: 71000, Cost: 1.3937263\n",
      "Epoch: 72000, Cost: 1.2459462\n",
      "Epoch: 73000, Cost: 1.2269504\n",
      "Epoch: 74000, Cost: 1.2410766\n",
      "Epoch: 75000, Cost: 2.009055\n",
      "Epoch: 76000, Cost: 1.1750968\n",
      "Epoch: 77000, Cost: 1.1589364\n",
      "Epoch: 78000, Cost: 1.1425109\n",
      "Epoch: 79000, Cost: 1.1344503\n",
      "Epoch: 80000, Cost: 1.1139872\n",
      "Epoch: 81000, Cost: 3.07991\n",
      "Epoch: 82000, Cost: 1.0825303\n"
     ]
    }
   ],
   "source": [
    "with tf.Session() as sess:\n",
    "    sess.run(tf.global_variables_initializer())\n",
    "    \n",
    "    xBatch = np.array_split(xTrain, 1)\n",
    "    yBatch = np.array_split(yTrain, 1)\n",
    "    \n",
    "    for epoch in range(epochs):\n",
    "        \n",
    "        feed_dict = {x: xBatch[0], y: yBatch[0], keep_prob: 1.0}\n",
    "        _, c = sess.run([optimizer, cost], feed_dict)\n",
    "        \n",
    "        costVals += [c]\n",
    "        if epoch % displayStep == 0:\n",
    "            print(\"Epoch: \"+str(epoch)+\", Cost: \"+str(c))\n",
    "    \n",
    "    save_path = saver.save(sess, \"aBPedalModel7/model.ckpt\")\n",
    "\n",
    "print(\"Optimization Finished & model saved!\")\n"
   ]
  },
  {
   "cell_type": "code",
   "execution_count": null,
   "metadata": {},
   "outputs": [],
   "source": [
    "plt.plot(range(epochs), costVals)\n",
    "plt.show()"
   ]
  }
 ],
 "metadata": {
  "kernelspec": {
   "display_name": "Python 3",
   "language": "python",
   "name": "python3"
  },
  "language_info": {
   "codemirror_mode": {
    "name": "ipython",
    "version": 3
   },
   "file_extension": ".py",
   "mimetype": "text/x-python",
   "name": "python",
   "nbconvert_exporter": "python",
   "pygments_lexer": "ipython3",
   "version": "3.7.3"
  }
 },
 "nbformat": 4,
 "nbformat_minor": 2
}
