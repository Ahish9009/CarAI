{
 "cells": [
  {
   "cell_type": "code",
   "execution_count": 1,
   "metadata": {},
   "outputs": [],
   "source": [
    "import tensorflow as tf\n",
    "import numpy as np\n",
    "import pandas as pd\n",
    "import matplotlib.pyplot as plt\n",
    "\n",
    "%matplotlib inline\n"
   ]
  },
  {
   "cell_type": "code",
   "execution_count": 2,
   "metadata": {},
   "outputs": [],
   "source": [
    "def insertBreak():\n",
    "    print(\"-\"*75)\n",
    "    "
   ]
  },
  {
   "cell_type": "code",
   "execution_count": 3,
   "metadata": {},
   "outputs": [
    {
     "data": {
      "text/html": [
       "<div>\n",
       "<style scoped>\n",
       "    .dataframe tbody tr th:only-of-type {\n",
       "        vertical-align: middle;\n",
       "    }\n",
       "\n",
       "    .dataframe tbody tr th {\n",
       "        vertical-align: top;\n",
       "    }\n",
       "\n",
       "    .dataframe thead th {\n",
       "        text-align: right;\n",
       "    }\n",
       "</style>\n",
       "<table border=\"1\" class=\"dataframe\">\n",
       "  <thead>\n",
       "    <tr style=\"text-align: right;\">\n",
       "      <th></th>\n",
       "      <th>0</th>\n",
       "      <th>1</th>\n",
       "      <th>2</th>\n",
       "      <th>3</th>\n",
       "      <th>4</th>\n",
       "      <th>5</th>\n",
       "      <th>6</th>\n",
       "      <th>7</th>\n",
       "      <th>8</th>\n",
       "      <th>9</th>\n",
       "      <th>10</th>\n",
       "      <th>11</th>\n",
       "    </tr>\n",
       "  </thead>\n",
       "  <tbody>\n",
       "    <tr>\n",
       "      <th>0</th>\n",
       "      <td>37.0</td>\n",
       "      <td>53.0</td>\n",
       "      <td>145.0</td>\n",
       "      <td>22.0</td>\n",
       "      <td>16.0</td>\n",
       "      <td>41.0</td>\n",
       "      <td>17.0</td>\n",
       "      <td>88.0</td>\n",
       "      <td>40.0</td>\n",
       "      <td>14.766667</td>\n",
       "      <td>1.0</td>\n",
       "      <td>0.0</td>\n",
       "    </tr>\n",
       "    <tr>\n",
       "      <th>1</th>\n",
       "      <td>36.0</td>\n",
       "      <td>53.0</td>\n",
       "      <td>143.0</td>\n",
       "      <td>22.0</td>\n",
       "      <td>16.0</td>\n",
       "      <td>41.0</td>\n",
       "      <td>17.0</td>\n",
       "      <td>88.0</td>\n",
       "      <td>40.0</td>\n",
       "      <td>14.766667</td>\n",
       "      <td>1.0</td>\n",
       "      <td>0.0</td>\n",
       "    </tr>\n",
       "    <tr>\n",
       "      <th>2</th>\n",
       "      <td>36.0</td>\n",
       "      <td>53.0</td>\n",
       "      <td>142.0</td>\n",
       "      <td>22.0</td>\n",
       "      <td>16.0</td>\n",
       "      <td>41.0</td>\n",
       "      <td>17.0</td>\n",
       "      <td>87.0</td>\n",
       "      <td>40.0</td>\n",
       "      <td>14.766667</td>\n",
       "      <td>1.0</td>\n",
       "      <td>0.0</td>\n",
       "    </tr>\n",
       "    <tr>\n",
       "      <th>3</th>\n",
       "      <td>37.0</td>\n",
       "      <td>52.0</td>\n",
       "      <td>140.0</td>\n",
       "      <td>22.0</td>\n",
       "      <td>16.0</td>\n",
       "      <td>40.0</td>\n",
       "      <td>17.0</td>\n",
       "      <td>87.0</td>\n",
       "      <td>38.0</td>\n",
       "      <td>14.766667</td>\n",
       "      <td>1.0</td>\n",
       "      <td>0.0</td>\n",
       "    </tr>\n",
       "    <tr>\n",
       "      <th>4</th>\n",
       "      <td>37.0</td>\n",
       "      <td>52.0</td>\n",
       "      <td>139.0</td>\n",
       "      <td>22.0</td>\n",
       "      <td>16.0</td>\n",
       "      <td>40.0</td>\n",
       "      <td>17.0</td>\n",
       "      <td>87.0</td>\n",
       "      <td>38.0</td>\n",
       "      <td>14.766667</td>\n",
       "      <td>1.0</td>\n",
       "      <td>0.0</td>\n",
       "    </tr>\n",
       "  </tbody>\n",
       "</table>\n",
       "</div>"
      ],
      "text/plain": [
       "     0     1      2     3     4     5     6     7     8          9    10   11\n",
       "0  37.0  53.0  145.0  22.0  16.0  41.0  17.0  88.0  40.0  14.766667  1.0  0.0\n",
       "1  36.0  53.0  143.0  22.0  16.0  41.0  17.0  88.0  40.0  14.766667  1.0  0.0\n",
       "2  36.0  53.0  142.0  22.0  16.0  41.0  17.0  87.0  40.0  14.766667  1.0  0.0\n",
       "3  37.0  52.0  140.0  22.0  16.0  40.0  17.0  87.0  38.0  14.766667  1.0  0.0\n",
       "4  37.0  52.0  139.0  22.0  16.0  40.0  17.0  87.0  38.0  14.766667  1.0  0.0"
      ]
     },
     "execution_count": 3,
     "metadata": {},
     "output_type": "execute_result"
    }
   ],
   "source": [
    "allDataDF = pd.read_csv(\"data.csv\", header = None)\n",
    "allDataDF = allDataDF.drop(columns = [12])\n",
    "allDataDF.head()\n"
   ]
  },
  {
   "cell_type": "code",
   "execution_count": 4,
   "metadata": {},
   "outputs": [
    {
     "name": "stdout",
     "output_type": "stream",
     "text": [
      "xDF: (6158, 11)\n",
      "yDF: (6158, 1)\n",
      "---------------------------------------------------------------------------\n"
     ]
    }
   ],
   "source": [
    "xDF = allDataDF.drop(columns = [11])\n",
    "yDF = allDataDF.drop(columns = range(11))\n",
    "\n",
    "print(\"xDF: \"+str(xDF.shape)+\"\\nyDF: \"+str(yDF.shape))\n",
    "insertBreak()\n"
   ]
  },
  {
   "cell_type": "code",
   "execution_count": 5,
   "metadata": {},
   "outputs": [
    {
     "name": "stdout",
     "output_type": "stream",
     "text": [
      "Input Features:\n",
      "\n",
      "Feature-1:\n"
     ]
    },
    {
     "data": {
      "image/png": "[encoded data removed]",
      "text/plain": [
       "<Figure size 432x288 with 1 Axes>"
      ]
     },
     "metadata": {
      "needs_background": "light"
     },
     "output_type": "display_data"
    },
    {
     "name": "stdout",
     "output_type": "stream",
     "text": [
      "Feature-2:\n"
     ]
    },
    {
     "data": {
      "image/png": "[encoded data removed]",
      "text/plain": [
       "<Figure size 432x288 with 1 Axes>"
      ]
     },
     "metadata": {
      "needs_background": "light"
     },
     "output_type": "display_data"
    },
    {
     "name": "stdout",
     "output_type": "stream",
     "text": [
      "Feature-3:\n"
     ]
    },
    {
     "data": {
      "image/png": "[encoded data removed]",
      "text/plain": [
       "<Figure size 432x288 with 1 Axes>"
      ]
     },
     "metadata": {
      "needs_background": "light"
     },
     "output_type": "display_data"
    },
    {
     "name": "stdout",
     "output_type": "stream",
     "text": [
      "Feature-4:\n"
     ]
    },
    {
     "data": {
      "image/png": "[encoded data removed]",
      "text/plain": [
       "<Figure size 432x288 with 1 Axes>"
      ]
     },
     "metadata": {
      "needs_background": "light"
     },
     "output_type": "display_data"
    },
    {
     "name": "stdout",
     "output_type": "stream",
     "text": [
      "Feature-5:\n"
     ]
    },
    {
     "data": {
      "image/png": "[encoded data removed]",
      "text/plain": [
       "<Figure size 432x288 with 1 Axes>"
      ]
     },
     "metadata": {
      "needs_background": "light"
     },
     "output_type": "display_data"
    },
    {
     "name": "stdout",
     "output_type": "stream",
     "text": [
      "Feature-6:\n"
     ]
    },
    {
     "data": {
      "image/png": "[encoded data removed]",
      "text/plain": [
       "<Figure size 432x288 with 1 Axes>"
      ]
     },
     "metadata": {
      "needs_background": "light"
     },
     "output_type": "display_data"
    },
    {
     "name": "stdout",
     "output_type": "stream",
     "text": [
      "Feature-7:\n"
     ]
    },
    {
     "data": {
      "image/png": "[encoded data removed]",
      "text/plain": [
       "<Figure size 432x288 with 1 Axes>"
      ]
     },
     "metadata": {
      "needs_background": "light"
     },
     "output_type": "display_data"
    },
    {
     "name": "stdout",
     "output_type": "stream",
     "text": [
      "Feature-8:\n"
     ]
    },
    {
     "data": {
      "image/png": "[encoded data removed]",
      "text/plain": [
       "<Figure size 432x288 with 1 Axes>"
      ]
     },
     "metadata": {
      "needs_background": "light"
     },
     "output_type": "display_data"
    },
    {
     "name": "stdout",
     "output_type": "stream",
     "text": [
      "Feature-9:\n"
     ]
    },
    {
     "data": {
      "image/png": "[encoded data removed]",
      "text/plain": [
       "<Figure size 432x288 with 1 Axes>"
      ]
     },
     "metadata": {
      "needs_background": "light"
     },
     "output_type": "display_data"
    },
    {
     "name": "stdout",
     "output_type": "stream",
     "text": [
      "Feature-10:\n"
     ]
    },
    {
     "data": {
      "image/png": "[encoded data removed]",
      "text/plain": [
       "<Figure size 432x288 with 1 Axes>"
      ]
     },
     "metadata": {
      "needs_background": "light"
     },
     "output_type": "display_data"
    },
    {
     "name": "stdout",
     "output_type": "stream",
     "text": [
      "Feature-11:\n"
     ]
    },
    {
     "data": {
      "image/png": "[encoded data removed]",
      "text/plain": [
       "<Figure size 432x288 with 1 Axes>"
      ]
     },
     "metadata": {
      "needs_background": "light"
     },
     "output_type": "display_data"
    },
    {
     "name": "stdout",
     "output_type": "stream",
     "text": [
      "---------------------------------------------------------------------------\n"
     ]
    }
   ],
   "source": [
    "print(\"Input Features:\\n\")\n",
    "for i in range(xDF.shape[1]):\n",
    "    print(\"Feature-\"+str(i+1)+\":\")\n",
    "    x = plt.hist(xDF[i], color=['green'])\n",
    "    plt.show()\n",
    "\n",
    "insertBreak()\n"
   ]
  },
  {
   "cell_type": "code",
   "execution_count": 6,
   "metadata": {},
   "outputs": [],
   "source": [
    "#Comment on features: Alot of features seem to be distributed logarithmicly\n"
   ]
  },
  {
   "cell_type": "code",
   "execution_count": 7,
   "metadata": {},
   "outputs": [],
   "source": [
    "toTrain = 1.0\n",
    "\n",
    "trainCount = int(toTrain * xDF.shape[0])\n",
    "xTrain = xDF.loc[:trainCount]\n",
    "xTest = xDF.loc[trainCount:]\n",
    "yTrain = yDF.loc[:trainCount]\n",
    "yTest = yDF.loc[trainCount:]\n"
   ]
  },
  {
   "cell_type": "code",
   "execution_count": 8,
   "metadata": {},
   "outputs": [
    {
     "name": "stdout",
     "output_type": "stream",
     "text": [
      "xTrain: (6158, 11) | yTrain: (0, 11)\n",
      "yTrain: (6158, 1) | yTest: (0, 1)\n",
      "---------------------------------------------------------------------------\n"
     ]
    }
   ],
   "source": [
    "print(\"xTrain: \"+str(xTrain.shape)+\" | yTrain: \"+str(xTest.shape))\n",
    "print(\"yTrain: \"+str(yTrain.shape)+\" | yTest: \"+str(yTest.shape))\n",
    "\n",
    "insertBreak()\n"
   ]
  },
  {
   "cell_type": "code",
   "execution_count": 9,
   "metadata": {},
   "outputs": [],
   "source": [
    "def multilayerPerceptron(x, weights, biases, keep_prob):\n",
    "    layer1 = tf.add( tf.matmul(x, weights['h1']), biases['b1'] )\n",
    "    layer1 = tf.nn.relu(layer1)\n",
    "    layer1 = tf.nn.dropout(layer1, keep_prob)\n",
    "    \n",
    "    outLayer = tf.matmul(layer1, weights['out']) + biases['out']\n",
    "    \n",
    "    return outLayer\n",
    "\n",
    "\n"
   ]
  },
  {
   "cell_type": "code",
   "execution_count": 10,
   "metadata": {},
   "outputs": [
    {
     "name": "stdout",
     "output_type": "stream",
     "text": [
      "WARNING:tensorflow:From /usr/local/lib/python3.7/site-packages/tensorflow/python/framework/op_def_library.py:263: colocate_with (from tensorflow.python.framework.ops) is deprecated and will be removed in a future version.\n",
      "Instructions for updating:\n",
      "Colocations handled automatically by placer.\n"
     ]
    }
   ],
   "source": [
    "nH1 = 7\n",
    "nInput = xTrain.shape[1]\n",
    "nOutput = 1\n",
    "\n",
    "weights = {\n",
    "    'h1':tf.Variable(tf.random_normal([nInput, nH1])),\n",
    "    'out':tf.Variable(tf.random_normal([nH1, nOutput]))   \n",
    "}\n",
    "biases = {\n",
    "    'b1':tf.Variable(tf.random_normal([nH1])),\n",
    "    'out':tf.Variable(tf.random_normal([nOutput]))\n",
    "}\n",
    "\n",
    "alpha = 0.01\n",
    "keep_prob = tf.placeholder(\"float\")\n",
    "epochs = 5000*5\n",
    "displayStep = 1000\n",
    "\n",
    "x = tf.placeholder(\"float\", [None, nInput])\n",
    "y = tf.placeholder(\"float\", [None, nOutput])\n",
    "\n"
   ]
  },
  {
   "cell_type": "code",
   "execution_count": 11,
   "metadata": {},
   "outputs": [
    {
     "name": "stdout",
     "output_type": "stream",
     "text": [
      "WARNING:tensorflow:From <ipython-input-9-4d10fbf729ab>:4: calling dropout (from tensorflow.python.ops.nn_ops) with keep_prob is deprecated and will be removed in a future version.\n",
      "Instructions for updating:\n",
      "Please use `rate` instead of `keep_prob`. Rate should be set to `rate = 1 - keep_prob`.\n"
     ]
    }
   ],
   "source": [
    "predictions = multilayerPerceptron(x, weights, biases, keep_prob)\n",
    "\n",
    "cost = tf.reduce_mean( tf.square(y - predictions) )\n",
    "optimizer = tf.train.AdamOptimizer(alpha).minimize(cost)\n",
    "\n",
    "saver = tf.train.Saver()\n"
   ]
  },
  {
   "cell_type": "code",
   "execution_count": 12,
   "metadata": {},
   "outputs": [],
   "source": [
    "costVals = []\n"
   ]
  },
  {
   "cell_type": "code",
   "execution_count": 13,
   "metadata": {},
   "outputs": [
    {
     "name": "stdout",
     "output_type": "stream",
     "text": [
      "Epoch: 0, Cost: 195765.98\n",
      "Epoch: 1000, Cost: 37.17702\n",
      "Epoch: 2000, Cost: 2.5976915\n",
      "Epoch: 3000, Cost: 0.6382406\n",
      "Epoch: 4000, Cost: 0.20757101\n",
      "Epoch: 5000, Cost: 0.091173224\n",
      "Epoch: 6000, Cost: 0.053753402\n",
      "Epoch: 7000, Cost: 0.12195392\n",
      "Epoch: 8000, Cost: 0.5888249\n",
      "Epoch: 9000, Cost: 0.019586755\n",
      "Epoch: 10000, Cost: 0.015299559\n",
      "Epoch: 11000, Cost: 0.0897431\n",
      "Epoch: 12000, Cost: 0.010910286\n",
      "Epoch: 13000, Cost: 0.008666556\n",
      "Epoch: 14000, Cost: 0.0073154187\n",
      "Epoch: 15000, Cost: 0.012765822\n",
      "Epoch: 16000, Cost: 0.0052303066\n",
      "Epoch: 17000, Cost: 0.0046632118\n",
      "Epoch: 18000, Cost: 0.46548027\n",
      "Epoch: 19000, Cost: 0.0035103268\n",
      "Epoch: 20000, Cost: 0.0028711963\n",
      "Epoch: 21000, Cost: 0.0029591906\n",
      "Epoch: 22000, Cost: 0.003049546\n",
      "Epoch: 23000, Cost: 0.001985724\n",
      "Epoch: 24000, Cost: 0.66163504\n",
      "Optimization Finished & model saved!\n"
     ]
    }
   ],
   "source": [
    "with tf.Session() as sess:\n",
    "    sess.run(tf.global_variables_initializer())\n",
    "    \n",
    "    xBatch = np.array_split(xTrain, 1)\n",
    "    yBatch = np.array_split(yTrain, 1)\n",
    "    \n",
    "    for epoch in range(epochs):\n",
    "        \n",
    "        feed_dict = {x: xBatch[0], y: yBatch[0], keep_prob: 1.0}\n",
    "        _, c = sess.run([optimizer, cost], feed_dict)\n",
    "        \n",
    "        costVals += [c]\n",
    "        if epoch % displayStep == 0:\n",
    "            print(\"Epoch: \"+str(epoch)+\", Cost: \"+str(c))\n",
    "    \n",
    "    save_path = saver.save(sess, \"aBPedalModel14/model.ckpt\")\n",
    "\n",
    "print(\"Optimization Finished & model saved!\")\n"
   ]
  },
  {
   "cell_type": "code",
   "execution_count": 14,
   "metadata": {},
   "outputs": [
    {
     "data": {
      "image/png": "[encoded data removed]",
      "text/plain": [
       "<Figure size 432x288 with 1 Axes>"
      ]
     },
     "metadata": {
      "needs_background": "light"
     },
     "output_type": "display_data"
    }
   ],
   "source": [
    "plt.plot(range(epochs), costVals)\n",
    "plt.show()"
   ]
  }
 ],
 "metadata": {
  "kernelspec": {
   "display_name": "Python 3",
   "language": "python",
   "name": "python3"
  },
  "language_info": {
   "codemirror_mode": {
    "name": "ipython",
    "version": 3
   },
   "file_extension": ".py",
   "mimetype": "text/x-python",
   "name": "python",
   "nbconvert_exporter": "python",
   "pygments_lexer": "ipython3",
   "version": "3.7.3"
  }
 },
 "nbformat": 4,
 "nbformat_minor": 2
}
