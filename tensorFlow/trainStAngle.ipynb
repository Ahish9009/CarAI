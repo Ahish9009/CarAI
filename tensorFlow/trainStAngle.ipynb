{
 "cells": [
  {
   "cell_type": "code",
   "execution_count": 1,
   "metadata": {},
   "outputs": [],
   "source": [
    "import tensorflow as tf\n",
    "import numpy as np\n",
    "import pandas as pd\n",
    "import matplotlib.pyplot as plt\n",
    "\n",
    "%matplotlib inline\n"
   ]
  },
  {
   "cell_type": "code",
   "execution_count": 2,
   "metadata": {},
   "outputs": [],
   "source": [
    "def insertBreak():\n",
    "    print(\"-\"*75)\n",
    "    "
   ]
  },
  {
   "cell_type": "code",
   "execution_count": 3,
   "metadata": {},
   "outputs": [
    {
     "data": {
      "text/html": [
       "<div>\n",
       "<style scoped>\n",
       "    .dataframe tbody tr th:only-of-type {\n",
       "        vertical-align: middle;\n",
       "    }\n",
       "\n",
       "    .dataframe tbody tr th {\n",
       "        vertical-align: top;\n",
       "    }\n",
       "\n",
       "    .dataframe thead th {\n",
       "        text-align: right;\n",
       "    }\n",
       "</style>\n",
       "<table border=\"1\" class=\"dataframe\">\n",
       "  <thead>\n",
       "    <tr style=\"text-align: right;\">\n",
       "      <th></th>\n",
       "      <th>0</th>\n",
       "      <th>1</th>\n",
       "      <th>2</th>\n",
       "      <th>3</th>\n",
       "      <th>4</th>\n",
       "      <th>5</th>\n",
       "      <th>6</th>\n",
       "      <th>7</th>\n",
       "      <th>8</th>\n",
       "      <th>9</th>\n",
       "      <th>10</th>\n",
       "      <th>12</th>\n",
       "    </tr>\n",
       "  </thead>\n",
       "  <tbody>\n",
       "    <tr>\n",
       "      <th>0</th>\n",
       "      <td>30.0</td>\n",
       "      <td>134.0</td>\n",
       "      <td>74.0</td>\n",
       "      <td>33.0</td>\n",
       "      <td>28.0</td>\n",
       "      <td>34.0</td>\n",
       "      <td>28.0</td>\n",
       "      <td>105.0</td>\n",
       "      <td>46.0</td>\n",
       "      <td>10.998667</td>\n",
       "      <td>-1.0</td>\n",
       "      <td>0</td>\n",
       "    </tr>\n",
       "    <tr>\n",
       "      <th>1</th>\n",
       "      <td>29.0</td>\n",
       "      <td>133.0</td>\n",
       "      <td>73.0</td>\n",
       "      <td>33.0</td>\n",
       "      <td>27.0</td>\n",
       "      <td>34.0</td>\n",
       "      <td>28.0</td>\n",
       "      <td>103.0</td>\n",
       "      <td>46.0</td>\n",
       "      <td>10.998667</td>\n",
       "      <td>-1.0</td>\n",
       "      <td>0</td>\n",
       "    </tr>\n",
       "    <tr>\n",
       "      <th>2</th>\n",
       "      <td>29.0</td>\n",
       "      <td>133.0</td>\n",
       "      <td>71.0</td>\n",
       "      <td>33.0</td>\n",
       "      <td>27.0</td>\n",
       "      <td>36.0</td>\n",
       "      <td>28.0</td>\n",
       "      <td>102.0</td>\n",
       "      <td>45.0</td>\n",
       "      <td>10.998667</td>\n",
       "      <td>-1.0</td>\n",
       "      <td>0</td>\n",
       "    </tr>\n",
       "    <tr>\n",
       "      <th>3</th>\n",
       "      <td>30.0</td>\n",
       "      <td>132.0</td>\n",
       "      <td>70.0</td>\n",
       "      <td>34.0</td>\n",
       "      <td>27.0</td>\n",
       "      <td>36.0</td>\n",
       "      <td>28.0</td>\n",
       "      <td>100.0</td>\n",
       "      <td>45.0</td>\n",
       "      <td>10.998667</td>\n",
       "      <td>-1.0</td>\n",
       "      <td>0</td>\n",
       "    </tr>\n",
       "    <tr>\n",
       "      <th>4</th>\n",
       "      <td>31.0</td>\n",
       "      <td>130.0</td>\n",
       "      <td>69.0</td>\n",
       "      <td>33.0</td>\n",
       "      <td>27.0</td>\n",
       "      <td>36.0</td>\n",
       "      <td>28.0</td>\n",
       "      <td>99.0</td>\n",
       "      <td>45.0</td>\n",
       "      <td>10.998667</td>\n",
       "      <td>-1.0</td>\n",
       "      <td>0</td>\n",
       "    </tr>\n",
       "  </tbody>\n",
       "</table>\n",
       "</div>"
      ],
      "text/plain": [
       "     0      1     2     3     4     5     6      7     8          9    10  12\n",
       "0  30.0  134.0  74.0  33.0  28.0  34.0  28.0  105.0  46.0  10.998667 -1.0   0\n",
       "1  29.0  133.0  73.0  33.0  27.0  34.0  28.0  103.0  46.0  10.998667 -1.0   0\n",
       "2  29.0  133.0  71.0  33.0  27.0  36.0  28.0  102.0  45.0  10.998667 -1.0   0\n",
       "3  30.0  132.0  70.0  34.0  27.0  36.0  28.0  100.0  45.0  10.998667 -1.0   0\n",
       "4  31.0  130.0  69.0  33.0  27.0  36.0  28.0   99.0  45.0  10.998667 -1.0   0"
      ]
     },
     "execution_count": 3,
     "metadata": {},
     "output_type": "execute_result"
    }
   ],
   "source": [
    "allDataDF = pd.read_csv(\"data.csv\", header = None)\n",
    "allDataDF = allDataDF.drop(columns = [11])\n",
    "allDataDF.head()\n"
   ]
  },
  {
   "cell_type": "code",
   "execution_count": 4,
   "metadata": {},
   "outputs": [
    {
     "name": "stdout",
     "output_type": "stream",
     "text": [
      "xDF: (1787, 11)\n",
      "yDF: (1787, 1)\n",
      "---------------------------------------------------------------------------\n"
     ]
    }
   ],
   "source": [
    "xDF = allDataDF.drop(columns = [12])\n",
    "yDF = allDataDF.drop(columns = range(11))\n",
    "\n",
    "print(\"xDF: \"+str(xDF.shape)+\"\\nyDF: \"+str(yDF.shape))\n",
    "insertBreak()\n"
   ]
  },
  {
   "cell_type": "code",
   "execution_count": 5,
   "metadata": {},
   "outputs": [
    {
     "name": "stdout",
     "output_type": "stream",
     "text": [
      "Input Features:\n",
      "\n",
      "Feature-1:\n"
     ]
    },
    {
     "data": {
      "image/png": "[encoded data removed]",
      "text/plain": [
       "<Figure size 432x288 with 1 Axes>"
      ]
     },
     "metadata": {
      "needs_background": "light"
     },
     "output_type": "display_data"
    },
    {
     "name": "stdout",
     "output_type": "stream",
     "text": [
      "Feature-2:\n"
     ]
    },
    {
     "data": {
      "image/png": "[encoded data removed]",
      "text/plain": [
       "<Figure size 432x288 with 1 Axes>"
      ]
     },
     "metadata": {
      "needs_background": "light"
     },
     "output_type": "display_data"
    },
    {
     "name": "stdout",
     "output_type": "stream",
     "text": [
      "Feature-3:\n"
     ]
    },
    {
     "data": {
      "image/png": "[encoded data removed]",
      "text/plain": [
       "<Figure size 432x288 with 1 Axes>"
      ]
     },
     "metadata": {
      "needs_background": "light"
     },
     "output_type": "display_data"
    },
    {
     "name": "stdout",
     "output_type": "stream",
     "text": [
      "Feature-4:\n"
     ]
    },
    {
     "data": {
      "image/png": "[encoded data removed]",
      "text/plain": [
       "<Figure size 432x288 with 1 Axes>"
      ]
     },
     "metadata": {
      "needs_background": "light"
     },
     "output_type": "display_data"
    },
    {
     "name": "stdout",
     "output_type": "stream",
     "text": [
      "Feature-5:\n"
     ]
    },
    {
     "data": {
      "image/png": "[encoded data removed]",
      "text/plain": [
       "<Figure size 432x288 with 1 Axes>"
      ]
     },
     "metadata": {
      "needs_background": "light"
     },
     "output_type": "display_data"
    },
    {
     "name": "stdout",
     "output_type": "stream",
     "text": [
      "Feature-6:\n"
     ]
    },
    {
     "data": {
      "image/png": "[encoded data removed]",
      "text/plain": [
       "<Figure size 432x288 with 1 Axes>"
      ]
     },
     "metadata": {
      "needs_background": "light"
     },
     "output_type": "display_data"
    },
    {
     "name": "stdout",
     "output_type": "stream",
     "text": [
      "Feature-7:\n"
     ]
    },
    {
     "data": {
      "image/png": "[encoded data removed]",
      "text/plain": [
       "<Figure size 432x288 with 1 Axes>"
      ]
     },
     "metadata": {
      "needs_background": "light"
     },
     "output_type": "display_data"
    },
    {
     "name": "stdout",
     "output_type": "stream",
     "text": [
      "Feature-8:\n"
     ]
    },
    {
     "data": {
      "image/png": "[encoded data removed]",
      "text/plain": [
       "<Figure size 432x288 with 1 Axes>"
      ]
     },
     "metadata": {
      "needs_background": "light"
     },
     "output_type": "display_data"
    },
    {
     "name": "stdout",
     "output_type": "stream",
     "text": [
      "Feature-9:\n"
     ]
    },
    {
     "data": {
      "image/png": "[encoded data removed]",
      "text/plain": [
       "<Figure size 432x288 with 1 Axes>"
      ]
     },
     "metadata": {
      "needs_background": "light"
     },
     "output_type": "display_data"
    },
    {
     "name": "stdout",
     "output_type": "stream",
     "text": [
      "Feature-10:\n"
     ]
    },
    {
     "data": {
      "image/png": "[encoded data removed]",
      "text/plain": [
       "<Figure size 432x288 with 1 Axes>"
      ]
     },
     "metadata": {
      "needs_background": "light"
     },
     "output_type": "display_data"
    },
    {
     "name": "stdout",
     "output_type": "stream",
     "text": [
      "Feature-11:\n"
     ]
    },
    {
     "data": {
      "image/png": "[encoded data removed]",
      "text/plain": [
       "<Figure size 432x288 with 1 Axes>"
      ]
     },
     "metadata": {
      "needs_background": "light"
     },
     "output_type": "display_data"
    },
    {
     "name": "stdout",
     "output_type": "stream",
     "text": [
      "---------------------------------------------------------------------------\n"
     ]
    }
   ],
   "source": [
    "print(\"Input Features:\\n\")\n",
    "for i in range(xDF.shape[1]):\n",
    "    print(\"Feature-\"+str(i+1)+\":\")\n",
    "    x = plt.hist(xDF[i], color=['green'])\n",
    "    plt.show()\n",
    "\n",
    "insertBreak()\n"
   ]
  },
  {
   "cell_type": "code",
   "execution_count": 6,
   "metadata": {},
   "outputs": [],
   "source": [
    "#Comment on features: Alot of features seem to be distributed logarithmicly\n"
   ]
  },
  {
   "cell_type": "code",
   "execution_count": 7,
   "metadata": {},
   "outputs": [],
   "source": [
    "toTrain = 1.0\n",
    "\n",
    "trainCount = int(toTrain * xDF.shape[0])\n",
    "xTrain = xDF.loc[:trainCount]\n",
    "xTest = xDF.loc[trainCount:]\n",
    "yTrain = yDF.loc[:trainCount]\n",
    "yTest = yDF.loc[trainCount:]\n"
   ]
  },
  {
   "cell_type": "code",
   "execution_count": 8,
   "metadata": {},
   "outputs": [
    {
     "name": "stdout",
     "output_type": "stream",
     "text": [
      "xTrain: (1787, 11) | yTrain: (0, 11)\n",
      "yTrain: (1787, 1) | yTest: (0, 1)\n",
      "---------------------------------------------------------------------------\n"
     ]
    }
   ],
   "source": [
    "print(\"xTrain: \"+str(xTrain.shape)+\" | yTrain: \"+str(xTest.shape))\n",
    "print(\"yTrain: \"+str(yTrain.shape)+\" | yTest: \"+str(yTest.shape))\n",
    "\n",
    "insertBreak()\n"
   ]
  },
  {
   "cell_type": "code",
   "execution_count": 9,
   "metadata": {},
   "outputs": [],
   "source": [
    "def multilayerPerceptron(x, weights, biases, keep_prob):\n",
    "    layer1 = tf.add( tf.matmul(x, weights['h1']), biases['b1'] )\n",
    "    layer1 = tf.nn.relu(layer1)\n",
    "    layer1 = tf.nn.dropout(layer1, keep_prob)\n",
    "    \n",
    "    outLayer = tf.matmul(layer1, weights['out']) + biases['out']\n",
    "    \n",
    "    return outLayer\n",
    "\n",
    "\n"
   ]
  },
  {
   "cell_type": "code",
   "execution_count": 10,
   "metadata": {},
   "outputs": [
    {
     "name": "stdout",
     "output_type": "stream",
     "text": [
      "WARNING:tensorflow:From /usr/local/lib/python3.7/site-packages/tensorflow/python/framework/op_def_library.py:263: colocate_with (from tensorflow.python.framework.ops) is deprecated and will be removed in a future version.\n",
      "Instructions for updating:\n",
      "Colocations handled automatically by placer.\n"
     ]
    }
   ],
   "source": [
    "nH1 = 30\n",
    "nInput = xTrain.shape[1]\n",
    "nOutput = 1\n",
    "\n",
    "weights = {\n",
    "    'h1':tf.Variable(tf.random_normal([nInput, nH1])),\n",
    "    'out':tf.Variable(tf.random_normal([nH1, nOutput]))   \n",
    "}\n",
    "biases = {\n",
    "    'b1':tf.Variable(tf.random_normal([nH1])),\n",
    "    'out':tf.Variable(tf.random_normal([nOutput]))\n",
    "}\n",
    "\n",
    "alpha = 0.001\n",
    "keep_prob = tf.placeholder(\"float\")\n",
    "epochs = 5000*20\n",
    "displayStep = 1000\n",
    "\n",
    "x = tf.placeholder(\"float\", [None, nInput])\n",
    "y = tf.placeholder(\"float\", [None, nOutput])\n",
    "\n"
   ]
  },
  {
   "cell_type": "code",
   "execution_count": 11,
   "metadata": {},
   "outputs": [
    {
     "name": "stdout",
     "output_type": "stream",
     "text": [
      "WARNING:tensorflow:From <ipython-input-9-4d10fbf729ab>:4: calling dropout (from tensorflow.python.ops.nn_ops) with keep_prob is deprecated and will be removed in a future version.\n",
      "Instructions for updating:\n",
      "Please use `rate` instead of `keep_prob`. Rate should be set to `rate = 1 - keep_prob`.\n"
     ]
    }
   ],
   "source": [
    "predictions = multilayerPerceptron(x, weights, biases, keep_prob)\n",
    "\n",
    "cost = tf.reduce_mean( tf.square(y - predictions) )\n",
    "optimizer = tf.train.AdamOptimizer(alpha).minimize(cost)\n",
    "\n",
    "saver = tf.train.Saver()\n"
   ]
  },
  {
   "cell_type": "code",
   "execution_count": 12,
   "metadata": {},
   "outputs": [
    {
     "name": "stdout",
     "output_type": "stream",
     "text": [
      "Epoch: 0, Cost: 152084.5\n",
      "Epoch: 1000, Cost: 1309.1755\n",
      "Epoch: 2000, Cost: 407.43335\n",
      "Epoch: 3000, Cost: 293.6887\n",
      "Epoch: 4000, Cost: 171.93285\n",
      "Epoch: 5000, Cost: 73.327415\n",
      "Epoch: 6000, Cost: 46.423706\n",
      "Epoch: 7000, Cost: 33.014523\n",
      "Epoch: 8000, Cost: 23.674183\n",
      "Epoch: 9000, Cost: 17.194859\n",
      "Epoch: 10000, Cost: 12.193494\n",
      "Epoch: 11000, Cost: 9.603274\n",
      "Epoch: 12000, Cost: 9.397427\n",
      "Epoch: 13000, Cost: 7.005559\n",
      "Epoch: 14000, Cost: 6.404549\n",
      "Epoch: 15000, Cost: 5.771335\n",
      "Epoch: 16000, Cost: 5.3090553\n",
      "Epoch: 17000, Cost: 4.872851\n",
      "Epoch: 18000, Cost: 4.584457\n",
      "Epoch: 19000, Cost: 4.5411925\n",
      "Epoch: 20000, Cost: 4.1209583\n",
      "Epoch: 21000, Cost: 3.917595\n",
      "Epoch: 22000, Cost: 3.7366867\n",
      "Epoch: 23000, Cost: 3.5755851\n",
      "Epoch: 24000, Cost: 3.5276217\n",
      "Epoch: 25000, Cost: 3.2166054\n",
      "Epoch: 26000, Cost: 3.033386\n",
      "Epoch: 27000, Cost: 2.8475537\n",
      "Epoch: 28000, Cost: 2.7261899\n",
      "Epoch: 29000, Cost: 2.6220856\n",
      "Epoch: 30000, Cost: 2.4821398\n",
      "Epoch: 31000, Cost: 2.4483256\n",
      "Epoch: 32000, Cost: 2.401555\n",
      "Epoch: 33000, Cost: 2.3073914\n",
      "Epoch: 34000, Cost: 2.2541513\n",
      "Epoch: 35000, Cost: 2.2048001\n",
      "Epoch: 36000, Cost: 2.172866\n",
      "Epoch: 37000, Cost: 2.148562\n",
      "Epoch: 38000, Cost: 2.0590718\n",
      "Epoch: 39000, Cost: 1.9845624\n",
      "Epoch: 40000, Cost: 1.9369783\n",
      "Epoch: 41000, Cost: 1.9023743\n",
      "Epoch: 42000, Cost: 1.8648729\n",
      "Epoch: 43000, Cost: 1.8310012\n",
      "Epoch: 44000, Cost: 1.8062487\n",
      "Epoch: 45000, Cost: 2.2253435\n",
      "Epoch: 46000, Cost: 1.749096\n",
      "Epoch: 47000, Cost: 1.7092723\n",
      "Epoch: 48000, Cost: 1.6794647\n",
      "Epoch: 49000, Cost: 1.653549\n",
      "Epoch: 50000, Cost: 1.6415542\n",
      "Epoch: 51000, Cost: 1.619727\n",
      "Epoch: 52000, Cost: 1.8156863\n",
      "Epoch: 53000, Cost: 1.5745162\n",
      "Epoch: 54000, Cost: 1.5591757\n",
      "Epoch: 55000, Cost: 1.5427426\n",
      "Epoch: 56000, Cost: 1.5281931\n",
      "Epoch: 57000, Cost: 1.5108132\n",
      "Epoch: 58000, Cost: 1.4961871\n",
      "Epoch: 59000, Cost: 1.8151464\n",
      "Epoch: 60000, Cost: 1.4768662\n",
      "Epoch: 61000, Cost: 1.517551\n",
      "Epoch: 62000, Cost: 1.4460781\n",
      "Epoch: 63000, Cost: 1.4480634\n",
      "Epoch: 64000, Cost: 1.4243354\n",
      "Epoch: 65000, Cost: 1.4156357\n",
      "Epoch: 66000, Cost: 1.4151177\n",
      "Epoch: 67000, Cost: 1.4638765\n",
      "Epoch: 68000, Cost: 1.4175266\n",
      "Epoch: 69000, Cost: 1.412813\n",
      "Epoch: 70000, Cost: 1.3549372\n",
      "Epoch: 71000, Cost: 1.6348552\n",
      "Epoch: 72000, Cost: 1.339034\n",
      "Epoch: 73000, Cost: 1.3517902\n",
      "Epoch: 74000, Cost: 1.430794\n",
      "Epoch: 75000, Cost: 1.3143325\n",
      "Epoch: 76000, Cost: 1.335378\n",
      "Epoch: 77000, Cost: 1.299626\n",
      "Epoch: 78000, Cost: 1.5461105\n",
      "Epoch: 79000, Cost: 1.431116\n",
      "Epoch: 80000, Cost: 1.299031\n",
      "Epoch: 81000, Cost: 1.2800559\n",
      "Epoch: 82000, Cost: 1.2690774\n",
      "Epoch: 83000, Cost: 1.8477188\n",
      "Epoch: 84000, Cost: 1.251158\n",
      "Epoch: 85000, Cost: 1.241355\n",
      "Epoch: 86000, Cost: 1.2636075\n",
      "Epoch: 87000, Cost: 1.2691233\n",
      "Epoch: 88000, Cost: 1.2255701\n",
      "Epoch: 89000, Cost: 1.2477539\n",
      "Epoch: 90000, Cost: 1.6669071\n",
      "Epoch: 91000, Cost: 1.4960783\n",
      "Epoch: 92000, Cost: 1.2006357\n",
      "Epoch: 93000, Cost: 1.3253112\n",
      "Epoch: 94000, Cost: 1.1937804\n",
      "Epoch: 95000, Cost: 1.187262\n",
      "Epoch: 96000, Cost: 1.1817211\n",
      "Epoch: 97000, Cost: 1.177089\n",
      "Epoch: 98000, Cost: 1.1749283\n",
      "Epoch: 99000, Cost: 1.1704558\n",
      "Optimization Finished & model saved!\n"
     ]
    }
   ],
   "source": [
    "with tf.Session() as sess:\n",
    "    sess.run(tf.global_variables_initializer())\n",
    "    \n",
    "    xBatch = np.array_split(xTrain, 1)\n",
    "    yBatch = np.array_split(yTrain, 1)\n",
    "    \n",
    "    for epoch in range(epochs):\n",
    "\n",
    "        feed_dict = {x: xBatch[0], y: yBatch[0], keep_prob: 1.0}\n",
    "        _, c = sess.run([optimizer, cost], feed_dict)\n",
    "    \n",
    "        if epoch % displayStep == 0:\n",
    "            print(\"Epoch: \"+str(epoch)+\", Cost: \"+str(c))\n",
    "    \n",
    "    save_path = saver.save(sess, \"stAngleModel5/model.ckpt\")\n",
    "\n",
    "print(\"Optimization Finished & model saved!\")\n"
   ]
  },
  {
   "cell_type": "code",
   "execution_count": null,
   "metadata": {},
   "outputs": [],
   "source": []
  }
 ],
 "metadata": {
  "kernelspec": {
   "display_name": "Python 3",
   "language": "python",
   "name": "python3"
  },
  "language_info": {
   "codemirror_mode": {
    "name": "ipython",
    "version": 3
   },
   "file_extension": ".py",
   "mimetype": "text/x-python",
   "name": "python",
   "nbconvert_exporter": "python",
   "pygments_lexer": "ipython3",
   "version": "3.7.3"
  }
 },
 "nbformat": 4,
 "nbformat_minor": 2
}
